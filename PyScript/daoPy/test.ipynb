{
 "cells": [
  {
   "cell_type": "code",
   "execution_count": 2,
   "metadata": {},
   "outputs": [
    {
     "name": "stdout",
     "output_type": "stream",
     "text": [
      "('smhrd05@naver.com', 'newTest', '123456')\n",
      "('smhrd01@naver.com', 'shmrd01', '123456')\n",
      "('smhrd02@naver.com', 'shmrd02', '123456')\n",
      "('smhrd03@naver.com', 'shmrd03', '123456')\n"
     ]
    }
   ],
   "source": [
    "import cx_Oracle\n",
    "\n",
    "dsn = cx_Oracle.makedsn(\"localhost\", 1521, service_name = \"XE\")\n",
    "connection = cx_Oracle.connect(user=\"scott\", password=\"123456\", dsn=dsn, encoding=\"utf-8\")\n",
    "\n",
    "cur = connection.cursor()\n",
    "\n",
    "for row in cur.execute(\"select * from member\"):\n",
    "    print(row)"
   ]
  }
 ],
 "metadata": {
  "kernelspec": {
   "display_name": "Python 3.9.12 ('test')",
   "language": "python",
   "name": "python3"
  },
  "language_info": {
   "codemirror_mode": {
    "name": "ipython",
    "version": 3
   },
   "file_extension": ".py",
   "mimetype": "text/x-python",
   "name": "python",
   "nbconvert_exporter": "python",
   "pygments_lexer": "ipython3",
   "version": "3.9.12"
  },
  "orig_nbformat": 4,
  "vscode": {
   "interpreter": {
    "hash": "f1a28523e60fdfb84e5ab2915df6d068a3ca1f7848f9331961bd8a1ce7649365"
   }
  }
 },
 "nbformat": 4,
 "nbformat_minor": 2
}
