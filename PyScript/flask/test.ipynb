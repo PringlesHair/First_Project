{
 "cells": [
  {
   "cell_type": "code",
   "execution_count": 20,
   "metadata": {},
   "outputs": [
    {
     "name": "stdout",
     "output_type": "stream",
     "text": [
      " * Serving Flask app '__main__' (lazy loading)\n",
      " * Environment: production\n",
      "\u001b[31m   WARNING: This is a development server. Do not use it in a production deployment.\u001b[0m\n",
      "\u001b[2m   Use a production WSGI server instead.\u001b[0m\n",
      " * Debug mode: off\n"
     ]
    },
    {
     "name": "stderr",
     "output_type": "stream",
     "text": [
      " * Running on http://127.0.0.1:5000/ (Press CTRL+C to quit)\n",
      "127.0.0.1 - - [31/Aug/2022 11:02:02] \"GET /ColorRecommend?ColorData=200,200,205:139,134,128:115,106,98:0,0,0:128,85,51 HTTP/1.1\" 200 -\n"
     ]
    },
    {
     "name": "stdout",
     "output_type": "stream",
     "text": [
      "200,200,205:139,134,128:115,106,98:0,0,0:128,85,51 <class 'str'>\n"
     ]
    }
   ],
   "source": [
    "from flask import Flask # 플라스크 클래스 임포트\n",
    "from flask import request, redirect\n",
    "import scipy.spatial.distance as distance \n",
    "import cx_Oracle\n",
    "import numpy as np\n",
    "\n",
    "app = Flask(__name__) # 내장변수 name을 이용해 서버를 구동시키는 객체 생성\n",
    "\n",
    "def userRgb(requestForm):\n",
    "    return sorted([tuple(map(int, i.split(','))) for i in requestForm.split(\":\")], key= lambda x:(x[0], x[1], x[2]))\n",
    "\n",
    "def dbConnection():\n",
    "    dsn = cx_Oracle.makedsn(\"project-db-stu.ddns.net\", 1524, service_name = \"XE\")\n",
    "    connection = cx_Oracle.connect(user = \"gjai_4_3_0822\", password=\"smhrd3\", dsn=dsn, encoding=\"utf-8\")\n",
    "    cursor = connection.cursor()\n",
    "    return cursor, connection\n",
    "\n",
    "def ThemeRgb():\n",
    "    cur, conn = dbConnection()\n",
    "    resultLi = []\n",
    "    for row in cur.execute(\"SELECT THEME_SEQ, THEME_COL1 , THEME_COL2 , THEME_COL3 , THEME_COL4 , THEME_COL5  FROM D_THEME dt\"):\n",
    "        resultLi.append({str(row[1]) : [tuple(map(int, i.split(\",\"))) for i in row[1:]]})\n",
    "    return resultLi\n",
    "\n",
    "def calDistance(requestForm):\n",
    "    usercol = userRgb(requestForm)\n",
    "    themeExtract = ThemeRgb()\n",
    "    \n",
    "    for seq, themecol in themeExtract.items():\n",
    "        themeExtract[seq] = [np.mean([distance.pdist(np.array([tc, uc])).min() for tc in themecol]) for uc in usercol]\n",
    "    \n",
    "    # print(themeExtract) #check\n",
    "    result = sorted(themeExtract.items(), key=lambda x:x[1])\n",
    "    \n",
    "    return \":\".join([i[0] for i in result[:8]])\n",
    "\n",
    "@app.route(\"/ColorRecommend\", methods=[\"GET\",'POST'])\n",
    "def ColorRecommend() :\n",
    "    if request.method == 'POST' :\n",
    "        display(request.form)\n",
    "        return \"Error?\";\n",
    "    else :\n",
    "        recommedTheme = calDistance(request.args['ColorData'])\n",
    "        print(recommedTheme)\n",
    "        return recommedTheme\n",
    "\n",
    "if __name__ == \"__main__\" : # .py 파일에서 main함수 역할\n",
    "    app.run()"
   ]
  },
  {
   "cell_type": "code",
   "execution_count": 30,
   "metadata": {},
   "outputs": [
    {
     "name": "stdout",
     "output_type": "stream",
     "text": [
      "[(242, 186, 73), (242, 198, 73), (248, 213, 104), (251, 231, 178), (252, 214, 103)]\n"
     ]
    }
   ],
   "source": [
    "import scipy.spatial.distance as distance \n",
    "import cx_Oracle\n",
    "import numpy as np\n",
    "\n",
    "def userRgb(requestForm):\n",
    "    return sorted([tuple(map(int, i.split(','))) for i in requestForm.split(\":\")], key= lambda x:(x[0], x[1], x[2]))\n",
    "\n",
    "def dbConnection():\n",
    "    dsn = cx_Oracle.makedsn(\"project-db-stu.ddns.net\", 1524, service_name = \"XE\")\n",
    "    connection = cx_Oracle.connect(user = \"gjai_4_3_0822\", password=\"smhrd3\", dsn=dsn, encoding=\"utf-8\")\n",
    "    cursor = connection.cursor()\n",
    "    return cursor, connection\n",
    "\n",
    "def ThemeRgb():\n",
    "    cur, conn = dbConnection()\n",
    "    resultLi = []\n",
    "    for row in cur.execute(\"SELECT THEME_SEQ, THEME_COL1 , THEME_COL2 , THEME_COL3 , THEME_COL4 , THEME_COL5  FROM D_THEME dt\"):\n",
    "        resultLi.append({str(row[1]) : [tuple(map(int, i.split(\",\"))) for i in row[1:]]})\n",
    "    return resultLi\n",
    "\n",
    "def calDistance(requestForm):\n",
    "    usercol = userRgb(requestForm)\n",
    "    themeExtract = ThemeRgb()\n",
    "    \n",
    "    for seq, themecol in themeExtract.items():\n",
    "        themeExtract[seq] = [np.mean([distance.pdist(np.array([tc, uc])).min() for tc in themecol]) for uc in usercol]\n",
    "    \n",
    "    # print(themeExtract) #check\n",
    "    result = sorted(themeExtract.items(), key=lambda x:x[1])\n",
    "    \n",
    "    return \":\".join([i[0] for i in result[:8]])"
   ]
  },
  {
   "cell_type": "code",
   "execution_count": 9,
   "metadata": {},
   "outputs": [
    {
     "data": {
      "text/plain": [
       "[{'A': '1'}, {'B': '2'}, {'C': '3'}, {'D': '4'}, {'E': '5'}]"
      ]
     },
     "execution_count": 9,
     "metadata": {},
     "output_type": "execute_result"
    }
   ],
   "source": [
    "test = [{i:j} for i,j in zip(\"ABCDE\", \"12345\")]\n",
    "\n",
    "test\n",
    "    "
   ]
  },
  {
   "cell_type": "code",
   "execution_count": 10,
   "metadata": {},
   "outputs": [
    {
     "data": {
      "text/plain": [
       "[('7',\n",
       "  [180.5010298355786,\n",
       "   176.13781271086114,\n",
       "   159.9488303160318,\n",
       "   214.51602905135078,\n",
       "   223.00977522173508]),\n",
       " ('27',\n",
       "  [186.8503118285837,\n",
       "   183.4878408536243,\n",
       "   171.39122356667315,\n",
       "   221.13324649195934,\n",
       "   230.46486171489883]),\n",
       " ('47',\n",
       "  [197.5466442937786,\n",
       "   193.4209222183259,\n",
       "   177.04033595142238,\n",
       "   229.93950553520116,\n",
       "   238.13661670353923]),\n",
       " ('67',\n",
       "  [186.50784030122895,\n",
       "   182.4020302828795,\n",
       "   164.41245408494595,\n",
       "   220.22205832879817,\n",
       "   228.85213201795332]),\n",
       " ('87',\n",
       "  [172.0468625518814,\n",
       "   165.50032918996823,\n",
       "   144.25108924668896,\n",
       "   203.71115005006604,\n",
       "   210.37801728796967]),\n",
       " ('107',\n",
       "  [189.93277311032074,\n",
       "   185.41589573254618,\n",
       "   164.90949210977254,\n",
       "   219.0106914132475,\n",
       "   226.49133066454516]),\n",
       " ('127',\n",
       "  [205.24610083486033,\n",
       "   199.2814593753776,\n",
       "   175.47345871326198,\n",
       "   232.4812686167511,\n",
       "   238.0792206721647]),\n",
       " ('147',\n",
       "  [212.47849036382308,\n",
       "   206.8431330263095,\n",
       "   184.88339731397082,\n",
       "   241.45547597602416,\n",
       "   247.69727910059245])]"
      ]
     },
     "execution_count": 10,
     "metadata": {},
     "output_type": "execute_result"
    }
   ],
   "source": [
    "li = [('7', [180.5010298355786, 176.13781271086114, 159.9488303160318, 214.51602905135078, 223.00977522173508]), ('27', [186.8503118285837, 183.4878408536243, 171.39122356667315, 221.13324649195934, 230.46486171489883]), ('47', [197.5466442937786, 193.4209222183259, 177.04033595142238, 229.93950553520116, 238.13661670353923]), ('67', [186.50784030122895, 182.4020302828795, 164.41245408494595, 220.22205832879817, 228.85213201795332]), ('87', [172.0468625518814, 165.50032918996823, 144.25108924668896, 203.71115005006604, 210.37801728796967]), ('107', [189.93277311032074, 185.41589573254618, 164.90949210977254, 219.0106914132475, 226.49133066454516]), ('127', [205.24610083486033, 199.2814593753776, 175.47345871326198, 232.4812686167511, 238.0792206721647]), ('147', [212.47849036382308, 206.8431330263095, 184.88339731397082, 241.45547597602416, 247.69727910059245])]\n",
    "\n",
    "sorted(li, key=lambda x:x[1])"
   ]
  }
 ],
 "metadata": {
  "kernelspec": {
   "display_name": "Python 3.9.12 ('test')",
   "language": "python",
   "name": "python3"
  },
  "language_info": {
   "codemirror_mode": {
    "name": "ipython",
    "version": 3
   },
   "file_extension": ".py",
   "mimetype": "text/x-python",
   "name": "python",
   "nbconvert_exporter": "python",
   "pygments_lexer": "ipython3",
   "version": "3.9.12"
  },
  "orig_nbformat": 4,
  "vscode": {
   "interpreter": {
    "hash": "6d883de6d834198837d236f3f0eb6100f058ced473d573f54aa3c53db6094808"
   }
  }
 },
 "nbformat": 4,
 "nbformat_minor": 2
}
