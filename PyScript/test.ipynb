{
 "cells": [
  {
   "cell_type": "code",
   "execution_count": 36,
   "metadata": {},
   "outputs": [
    {
     "data": {
      "text/plain": [
       "'Agila%20Light%20Solarized_whtsky_Python_JetBrains%20Mono.png'"
      ]
     },
     "execution_count": 36,
     "metadata": {},
     "output_type": "execute_result"
    }
   ],
   "source": [
    "import json\n",
    "from urllib import parse\n",
    "\n",
    "with open(\"reFinal_ThemeInfoImgCrawlextract.json\", \"r\", encoding=\"utf-8\") as f:\n",
    "    jsonData = json.load(f)\n",
    "    \n",
    "# jsonData[0]['imgpath'].split(\"_\")\n",
    "# jsonData[0]['name']\n",
    "\n",
    "jsonData[0]['imgpath']"
   ]
  }
 ],
 "metadata": {
  "kernelspec": {
   "display_name": "Python 3.9.12 ('test')",
   "language": "python",
   "name": "python3"
  },
  "language_info": {
   "codemirror_mode": {
    "name": "ipython",
    "version": 3
   },
   "file_extension": ".py",
   "mimetype": "text/x-python",
   "name": "python",
   "nbconvert_exporter": "python",
   "pygments_lexer": "ipython3",
   "version": "3.9.12"
  },
  "orig_nbformat": 4,
  "vscode": {
   "interpreter": {
    "hash": "6d883de6d834198837d236f3f0eb6100f058ced473d573f54aa3c53db6094808"
   }
  }
 },
 "nbformat": 4,
 "nbformat_minor": 2
}
