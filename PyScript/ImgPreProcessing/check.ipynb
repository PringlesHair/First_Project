{
 "cells": [
  {
   "cell_type": "code",
   "execution_count": 13,
   "metadata": {},
   "outputs": [
    {
     "ename": "FileNotFoundError",
     "evalue": "[WinError 3] 지정된 경로를 찾을 수 없습니다: '1337\\\\../ThemeImg/ThemeImg_Crop'",
     "output_type": "error",
     "traceback": [
      "\u001b[1;31m---------------------------------------------------------------------------\u001b[0m",
      "\u001b[1;31mFileNotFoundError\u001b[0m                         Traceback (most recent call last)",
      "\u001b[1;32mc:\\eGovFrame-4.0.0\\First_Project\\PyScript\\ImgPreProcessing\\check.ipynb 셀 1\u001b[0m in \u001b[0;36m<cell line: 8>\u001b[1;34m()\u001b[0m\n\u001b[0;32m      <a href='vscode-notebook-cell:/c%3A/eGovFrame-4.0.0/First_Project/PyScript/ImgPreProcessing/check.ipynb#W0sZmlsZQ%3D%3D?line=5'>6</a>\u001b[0m dest \u001b[39m=\u001b[39m \u001b[39m\"\u001b[39m\u001b[39m../ThemeImg/ThemeImg_Crop\u001b[39m\u001b[39m\"\u001b[39m\n\u001b[0;32m      <a href='vscode-notebook-cell:/c%3A/eGovFrame-4.0.0/First_Project/PyScript/ImgPreProcessing/check.ipynb#W0sZmlsZQ%3D%3D?line=7'>8</a>\u001b[0m \u001b[39mfor\u001b[39;00m fold \u001b[39min\u001b[39;00m os\u001b[39m.\u001b[39mlistdir(dest):\n\u001b[1;32m----> <a href='vscode-notebook-cell:/c%3A/eGovFrame-4.0.0/First_Project/PyScript/ImgPreProcessing/check.ipynb#W0sZmlsZQ%3D%3D?line=8'>9</a>\u001b[0m     \u001b[39mif\u001b[39;00m \u001b[39mlen\u001b[39m(os\u001b[39m.\u001b[39;49mlistdir(os\u001b[39m.\u001b[39;49mpath\u001b[39m.\u001b[39;49mjoin(fold, dest))) \u001b[39m!=\u001b[39m \u001b[39m40\u001b[39m:\n\u001b[0;32m     <a href='vscode-notebook-cell:/c%3A/eGovFrame-4.0.0/First_Project/PyScript/ImgPreProcessing/check.ipynb#W0sZmlsZQ%3D%3D?line=9'>10</a>\u001b[0m         \u001b[39mprint\u001b[39m(fold)\n",
      "\u001b[1;31mFileNotFoundError\u001b[0m: [WinError 3] 지정된 경로를 찾을 수 없습니다: '1337\\\\../ThemeImg/ThemeImg_Crop'"
     ]
    }
   ],
   "source": [
    "import os\n",
    "\n",
    "# with open(\"../macro/ThemeName.txt\", 'r', encoding=\"utf-8\") as f:\n",
    "#     data = [i.strip() for i in f.readlines()]\n",
    "\n",
    "dest = \"../ThemeImg/ThemeImg_Crop\"\n",
    "\n",
    "for fold in os.listdir(dest):\n",
    "    if len(os.listdir(os.path.join(dest, fold))) != 40:\n",
    "        print(fold)"
   ]
  }
 ],
 "metadata": {
  "kernelspec": {
   "display_name": "Python 3.9.12 ('test')",
   "language": "python",
   "name": "python3"
  },
  "language_info": {
   "codemirror_mode": {
    "name": "ipython",
    "version": 3
   },
   "file_extension": ".py",
   "mimetype": "text/x-python",
   "name": "python",
   "nbconvert_exporter": "python",
   "pygments_lexer": "ipython3",
   "version": "3.9.12"
  },
  "orig_nbformat": 4,
  "vscode": {
   "interpreter": {
    "hash": "6d883de6d834198837d236f3f0eb6100f058ced473d573f54aa3c53db6094808"
   }
  }
 },
 "nbformat": 4,
 "nbformat_minor": 2
}
