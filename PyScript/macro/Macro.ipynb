{
 "cells": [
  {
   "cell_type": "code",
   "execution_count": 1,
   "metadata": {},
   "outputs": [
    {
     "ename": "KeyboardInterrupt",
     "evalue": "",
     "output_type": "error",
     "traceback": [
      "\u001b[1;31m---------------------------------------------------------------------------\u001b[0m",
      "\u001b[1;31mKeyboardInterrupt\u001b[0m                         Traceback (most recent call last)",
      "\u001b[1;32mc:\\eGovFrame-4.0.0\\First_Project\\PyScript\\macro\\Macro.ipynb 셀 1\u001b[0m in \u001b[0;36m<cell line: 56>\u001b[1;34m()\u001b[0m\n\u001b[0;32m     <a href='vscode-notebook-cell:/c%3A/eGovFrame-4.0.0/First_Project/PyScript/macro/Macro.ipynb#W0sZmlsZQ%3D%3D?line=62'>63</a>\u001b[0m     os\u001b[39m.\u001b[39mmkdir(imgPath)\n\u001b[0;32m     <a href='vscode-notebook-cell:/c%3A/eGovFrame-4.0.0/First_Project/PyScript/macro/Macro.ipynb#W0sZmlsZQ%3D%3D?line=64'>65</a>\u001b[0m test \u001b[39m=\u001b[39m MacroApp()\n\u001b[1;32m---> <a href='vscode-notebook-cell:/c%3A/eGovFrame-4.0.0/First_Project/PyScript/macro/Macro.ipynb#W0sZmlsZQ%3D%3D?line=65'>66</a>\u001b[0m test\u001b[39m.\u001b[39;49mstartApp(imgPath, [\u001b[39m\"\u001b[39;49m\u001b[39mtest1\u001b[39;49m\u001b[39m\"\u001b[39;49m])\n",
      "\u001b[1;32mc:\\eGovFrame-4.0.0\\First_Project\\PyScript\\macro\\Macro.ipynb 셀 1\u001b[0m in \u001b[0;36mMacroApp.startApp\u001b[1;34m(self, imgPath, themeNames)\u001b[0m\n\u001b[0;32m     <a href='vscode-notebook-cell:/c%3A/eGovFrame-4.0.0/First_Project/PyScript/macro/Macro.ipynb#W0sZmlsZQ%3D%3D?line=49'>50</a>\u001b[0m     pyautogui\u001b[39m.\u001b[39mclick()\n\u001b[0;32m     <a href='vscode-notebook-cell:/c%3A/eGovFrame-4.0.0/First_Project/PyScript/macro/Macro.ipynb#W0sZmlsZQ%3D%3D?line=50'>51</a>\u001b[0m     \u001b[39m# fontChoose\u001b[39;00m\n\u001b[1;32m---> <a href='vscode-notebook-cell:/c%3A/eGovFrame-4.0.0/First_Project/PyScript/macro/Macro.ipynb#W0sZmlsZQ%3D%3D?line=51'>52</a>\u001b[0m     \u001b[39mself\u001b[39;49m\u001b[39m.\u001b[39;49mfontChoose(imgPath, theme, script)\n\u001b[0;32m     <a href='vscode-notebook-cell:/c%3A/eGovFrame-4.0.0/First_Project/PyScript/macro/Macro.ipynb#W0sZmlsZQ%3D%3D?line=52'>53</a>\u001b[0m     \u001b[39mself\u001b[39m\u001b[39m.\u001b[39mscript_X \u001b[39m+\u001b[39m\u001b[39m=\u001b[39m \u001b[39m140\u001b[39m \u001b[39m# jump cursor\u001b[39;00m\n\u001b[0;32m     <a href='vscode-notebook-cell:/c%3A/eGovFrame-4.0.0/First_Project/PyScript/macro/Macro.ipynb#W0sZmlsZQ%3D%3D?line=53'>54</a>\u001b[0m \u001b[39mself\u001b[39m\u001b[39m.\u001b[39mscript_X \u001b[39m=\u001b[39m \u001b[39m120\u001b[39m\n",
      "\u001b[1;32mc:\\eGovFrame-4.0.0\\First_Project\\PyScript\\macro\\Macro.ipynb 셀 1\u001b[0m in \u001b[0;36mMacroApp.fontChoose\u001b[1;34m(self, imgPath, theme, script)\u001b[0m\n\u001b[0;32m     <a href='vscode-notebook-cell:/c%3A/eGovFrame-4.0.0/First_Project/PyScript/macro/Macro.ipynb#W0sZmlsZQ%3D%3D?line=24'>25</a>\u001b[0m time\u001b[39m.\u001b[39msleep(\u001b[39m0.5\u001b[39m)\n\u001b[0;32m     <a href='vscode-notebook-cell:/c%3A/eGovFrame-4.0.0/First_Project/PyScript/macro/Macro.ipynb#W0sZmlsZQ%3D%3D?line=25'>26</a>\u001b[0m pyautogui\u001b[39m.\u001b[39mhotkey(\u001b[39m'\u001b[39m\u001b[39mctrl\u001b[39m\u001b[39m'\u001b[39m, \u001b[39m'\u001b[39m\u001b[39mw\u001b[39m\u001b[39m'\u001b[39m)\n\u001b[1;32m---> <a href='vscode-notebook-cell:/c%3A/eGovFrame-4.0.0/First_Project/PyScript/macro/Macro.ipynb#W0sZmlsZQ%3D%3D?line=26'>27</a>\u001b[0m time\u001b[39m.\u001b[39;49msleep(\u001b[39m3\u001b[39;49m)\n\u001b[0;32m     <a href='vscode-notebook-cell:/c%3A/eGovFrame-4.0.0/First_Project/PyScript/macro/Macro.ipynb#W0sZmlsZQ%3D%3D?line=27'>28</a>\u001b[0m pyautogui\u001b[39m.\u001b[39mscreenshot(os\u001b[39m.\u001b[39mpath\u001b[39m.\u001b[39mjoin(imgPath, \u001b[39mf\u001b[39m\u001b[39m\"\u001b[39m\u001b[39m{\u001b[39;00mtheme\u001b[39m}\u001b[39;00m\u001b[39m_\u001b[39m\u001b[39m{\u001b[39;00mscript\u001b[39m}\u001b[39;00m\u001b[39m_\u001b[39m\u001b[39m{\u001b[39;00mfont\u001b[39m}\u001b[39;00m\u001b[39m.png\u001b[39m\u001b[39m\"\u001b[39m))\n",
      "\u001b[1;31mKeyboardInterrupt\u001b[0m: "
     ]
    }
   ],
   "source": [
    "import pyautogui\n",
    "import time\n",
    "import os\n",
    "\n",
    "class MacroApp:\n",
    "    def __init__(self):\n",
    "        self.script_li = [\"Python\", \"Java\", \"HTML\", \"JavaScript\"]\n",
    "        self.font_li = ['JetBrains Mono', 'D2coding', 'Noto Sans', 'Consolas', 'Hack', 'ProFontWindows', 'SourceCodePro', 'Monaco', 'IBM Plex Mono', 'Fira code']\n",
    "        self.theme_click = (800,87) # 마우스로 첫번째 테마 클릭\n",
    "        self.script_X = 120 # 마우스로 첫번째 스크립트 클릭\n",
    "        self.script_Y = 50\n",
    "        self.font_XY = (810,412) # 마우스로 폰트 위치 클릭\n",
    "        self.flag = True\n",
    "        \n",
    "    def fontChoose(self, imgPath, theme, script):\n",
    "        for font in self.font_li:\n",
    "            pyautogui.hotkey('ctrl', ',')\n",
    "            time.sleep(0.3)\n",
    "            pyautogui.moveTo(*self.font_XY)\n",
    "            pyautogui.doubleClick()\n",
    "            pyautogui.click()\n",
    "            time.sleep(0.1)\n",
    "            pyautogui.press('delete')\n",
    "            pyautogui.typewrite(font)\n",
    "            time.sleep(0.5)\n",
    "            pyautogui.hotkey('ctrl', 'w')\n",
    "            time.sleep(3)\n",
    "            pyautogui.screenshot(os.path.join(imgPath, f\"{theme}_{script}_{font}.png\"))\n",
    "    \n",
    "    def themeChoose(self):\n",
    "        pyautogui.hotkey('ctrl', 'k', 't')\n",
    "        time.sleep(0.5)\n",
    "        if self.flag:\n",
    "            pyautogui.moveTo(*self.theme_click)\n",
    "            pyautogui.click()\n",
    "            self.flag = False\n",
    "        else:\n",
    "            pyautogui.press('down')\n",
    "            pyautogui.press('enter')\n",
    "        time.sleep(2)\n",
    "    \n",
    "    def startApp(self, imgPath, themeNames):\n",
    "        pyautogui.hotkey('ctrl', 'b') # 탐색창 (활성화 상태로 시작 가정)\n",
    "        for theme in themeNames:\n",
    "            # themeChoose\n",
    "            self.themeChoose()\n",
    "            # scripChoose\n",
    "            for script in self.script_li:\n",
    "                pyautogui.moveTo(self.script_X, self.script_Y)\n",
    "                pyautogui.click()\n",
    "                # fontChoose\n",
    "                self.fontChoose(imgPath, theme, script)\n",
    "                self.script_X += 140 # jump cursor\n",
    "            self.script_X = 120\n",
    "            \n",
    "if __name__ == \"__main__\":\n",
    "    with open(\"ThemeName.txt\", 'r', encoding=\"utf-8\") as f:\n",
    "        themeNames = [\"\".join(filter(str.isalnum, line.strip())) for line in f.readlines()]\n",
    "        f.close()    \n",
    "    \n",
    "    imgPath = os.path.join(os.getcwd(), 'ThemeImg')\n",
    "    if not os.path.exists(imgPath):\n",
    "        os.mkdir(imgPath)\n",
    "    \n",
    "    test = MacroApp()\n",
    "    test.startApp(imgPath, [\"test1\"])"
   ]
  },
  {
   "cell_type": "code",
   "execution_count": 8,
   "metadata": {},
   "outputs": [],
   "source": [
    "import pyautogui\n",
    "import time\n",
    "import os\n",
    "\n",
    "imgPath = os.path.join(os.getcwd(), 'ThemeImg')\n",
    "if not os.path.exists(imgPath):\n",
    "    os.mkdir(imgPath)\n",
    "fontLi = ['JetBrains Mono', 'D2coding', 'Noto Sans KR', 'Consolas']\n",
    "idx = 0\n",
    "\n",
    "pyautogui.hotkey('ctrl', 'b')\n",
    "pyautogui.hotkey('ctrl', 'k', 't') # vscode theme select hotkey\n",
    "time.sleep(0.3)\n",
    "\n",
    "pyautogui.moveTo(800,87) # first theme click\n",
    "# pyautogui.click()\n",
    "time.sleep(1)\n",
    "\n",
    "pyautogui.moveTo(120,50) # first language\n",
    "# pyautogui.click()\n",
    "time.sleep(1)\n",
    "\n",
    "pyautogui.moveTo(260,50) # first language\n",
    "# pyautogui.click()\n",
    "time.sleep(1)\n",
    "\n",
    "pyautogui.hotkey('ctrl', ',')\n",
    "pyautogui.moveTo(810,412)"
   ]
  },
  {
   "cell_type": "code",
   "execution_count": 18,
   "metadata": {},
   "outputs": [],
   "source": [
    "# themeImg.crop((290,100,1000,500))\n",
    "# pyautogui.screenshot(os.path.join(imgPath, 'test.png'), region=(0,0,0,0))"
   ]
  }
 ],
 "metadata": {
  "kernelspec": {
   "display_name": "Python 3.9.12 ('test')",
   "language": "python",
   "name": "python3"
  },
  "language_info": {
   "codemirror_mode": {
    "name": "ipython",
    "version": 3
   },
   "file_extension": ".py",
   "mimetype": "text/x-python",
   "name": "python",
   "nbconvert_exporter": "python",
   "pygments_lexer": "ipython3",
   "version": "3.9.12"
  },
  "orig_nbformat": 4,
  "vscode": {
   "interpreter": {
    "hash": "6d883de6d834198837d236f3f0eb6100f058ced473d573f54aa3c53db6094808"
   }
  }
 },
 "nbformat": 4,
 "nbformat_minor": 2
}
