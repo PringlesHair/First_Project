{
 "cells": [
  {
   "cell_type": "code",
   "execution_count": 59,
   "metadata": {},
   "outputs": [],
   "source": [
    "import pyautogui\n",
    "import time\n",
    "import os\n",
    "\n",
    "imgPath = os.path.join(os.getcwd(), 'ThemeImg')\n",
    "if not os.path.exists(imgPath):\n",
    "    os.mkdir(imgPath)\n",
    "fontLi = ['JetBrains Mono', 'D2coding', 'Noto Sans KR', 'Consolas']\n",
    "idx = 0\n",
    "\n",
    "pyautogui.hotkey('ctrl', 'k', 't') # vscode theme select hotkey\n",
    "time.sleep(0.3)\n",
    "\n",
    "pyautogui.moveTo(800,90) # first theme click\n",
    "pyautogui.click()\n",
    "time.sleep(1)\n",
    "\n",
    "pyautogui.moveTo(340,50) # first language\n",
    "pyautogui.click()\n",
    "time.sleep(0.5)\n",
    "\n",
    "for font in fontLi:\n",
    "    pyautogui.hotkey('ctrl', ',')\n",
    "    pyautogui.moveTo(810,412)\n",
    "    pyautogui.doubleClick()\n",
    "    pyautogui.click()\n",
    "    pyautogui.press('delete')\n",
    "    pyautogui.typewrite(font)\n",
    "    pyautogui.hotkey('ctrl', 's')\n",
    "    pyautogui.hotkey('ctrl', 'w')\n",
    "    time.sleep(3)\n",
    "    themeImg = pyautogui.screenshot(os.path.join(imgPath, f'test{idx}.png'))\n",
    "    idx += 1\n",
    "\n",
    "pyautogui.moveTo(470,50) # second language\n",
    "pyautogui.click()\n",
    "time.sleep(0.5)\n",
    "\n",
    "for font in fontLi:\n",
    "    pyautogui.hotkey('ctrl', ',')\n",
    "    pyautogui.moveTo(810,412)\n",
    "    pyautogui.doubleClick()\n",
    "    pyautogui.click()\n",
    "    pyautogui.press('delete')\n",
    "    pyautogui.typewrite(font)\n",
    "    pyautogui.hotkey('ctrl', 's')\n",
    "    pyautogui.hotkey('ctrl', 'w')\n",
    "    time.sleep(3)\n",
    "    themeImg = pyautogui.screenshot(os.path.join(imgPath, f'test{idx}.png'))\n",
    "    idx += 1\n",
    "\n",
    "pyautogui.moveTo(600,50) # thrid language\n",
    "pyautogui.click()\n",
    "time.sleep(0.5)\n",
    "\n",
    "for font in fontLi:\n",
    "    pyautogui.hotkey('ctrl', ',')\n",
    "    pyautogui.moveTo(810,412)\n",
    "    pyautogui.doubleClick()\n",
    "    pyautogui.click()\n",
    "    pyautogui.press('delete')\n",
    "    pyautogui.typewrite(font)\n",
    "    pyautogui.hotkey('ctrl', 's')\n",
    "    pyautogui.hotkey('ctrl', 'w')\n",
    "    time.sleep(3)\n",
    "    themeImg = pyautogui.screenshot(os.path.join(imgPath, f'test{idx}.png'))\n",
    "    idx += 1\n",
    "\n",
    "\n",
    "# 해당 구문 부터 반복문 작성\n",
    "# pyautogui.hotkey('ctrl', 'k', 't')\n",
    "# time.sleep(0.3)\n",
    "# pyautogui.press('down')\n",
    "# pyautogui.press('enter')\n",
    "# time.sleep(0.3)\n",
    "# pyautogui.screenshot(os.path.join(imgPath, 'test2.png'))\n",
    "\n",
    "# 반복문, "
   ]
  },
  {
   "cell_type": "code",
   "execution_count": 18,
   "metadata": {},
   "outputs": [],
   "source": [
    "# themeImg.crop((290,100,1000,500))\n",
    "# pyautogui.screenshot(os.path.join(imgPath, 'test.png'), region=(0,0,0,0))"
   ]
  },
  {
   "cell_type": "code",
   "execution_count": null,
   "metadata": {},
   "outputs": [],
   "source": [
    "# JetBrains Mono,D2coding, Consolas, 'Courier New', monospace\n"
   ]
  },
  {
   "cell_type": "code",
   "execution_count": 41,
   "metadata": {},
   "outputs": [
    {
     "name": "stdout",
     "output_type": "stream",
     "text": [
      "\n",
      "\t \n",
      "   ! \" # $ % & ' ( ) * + , - . / 0 \n",
      "1 2 3 4 5 6 7 8 9 : ; < = > ? @ [ \\ ] ^ \n",
      "_ ` a b c d e f g h i j k l m n o p q r \n",
      "s t u v w x y z { | } ~ accept add alt altleft altright apps backspace browserback \n",
      "browserfavorites browserforward browserhome browserrefresh browsersearch browserstop capslock clear convert ctrl ctrlleft ctrlright decimal del delete divide down end enter esc \n",
      "escape execute f1 f10 f11 f12 f13 f14 f15 f16 f17 f18 f19 f2 f20 f21 f22 f23 f24 f3 \n",
      "f4 f5 f6 f7 f8 f9 final fn hanguel hangul hanja help home insert junja kana kanji launchapp1 launchapp2 launchmail \n",
      "launchmediaselect left modechange multiply nexttrack nonconvert num0 num1 num2 num3 num4 num5 num6 num7 num8 num9 numlock pagedown pageup pause \n",
      "pgdn pgup playpause prevtrack print printscreen prntscrn prtsc prtscr return right scrolllock select separator shift shiftleft shiftright sleep space stop \n",
      "subtract tab up volumedown volumemute volumeup win winleft winright yen command option optionleft optionright "
     ]
    }
   ],
   "source": [
    "flag = 0\n",
    "\n",
    "for i in pyautogui.KEYBOARD_KEYS:\n",
    "    if flag % 20 == 0:\n",
    "        print()\n",
    "    print(i, end=\" \")\n",
    "    flag += 1"
   ]
  },
  {
   "cell_type": "code",
   "execution_count": 57,
   "metadata": {},
   "outputs": [
    {
     "name": "stdout",
     "output_type": "stream",
     "text": [
      "810 412\n"
     ]
    }
   ],
   "source": [
    "print(*(810,412))"
   ]
  }
 ],
 "metadata": {
  "kernelspec": {
   "display_name": "Python 3.9.12 ('test')",
   "language": "python",
   "name": "python3"
  },
  "language_info": {
   "codemirror_mode": {
    "name": "ipython",
    "version": 3
   },
   "file_extension": ".py",
   "mimetype": "text/x-python",
   "name": "python",
   "nbconvert_exporter": "python",
   "pygments_lexer": "ipython3",
   "version": "3.9.12"
  },
  "orig_nbformat": 4,
  "vscode": {
   "interpreter": {
    "hash": "6d883de6d834198837d236f3f0eb6100f058ced473d573f54aa3c53db6094808"
   }
  }
 },
 "nbformat": 4,
 "nbformat_minor": 2
}
